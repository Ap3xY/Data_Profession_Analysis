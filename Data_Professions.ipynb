{
 "cells": [
  {
   "attachments": {},
   "cell_type": "markdown",
   "metadata": {},
   "source": [
    "# Data Professions Analysis"
   ]
  },
  {
   "attachments": {},
   "cell_type": "markdown",
   "metadata": {},
   "source": [
    "### THE SIX STAGES OF THE DATA ANALYSIS PROCESS FOR THIS PROJECT:"
   ]
  },
  {
   "attachments": {},
   "cell_type": "markdown",
   "metadata": {},
   "source": [
    "#### Ask"
   ]
  },
  {
   "attachments": {},
   "cell_type": "markdown",
   "metadata": {},
   "source": [
    "This project's objective is to analyse data from a Data Professions Survey and answer the following questions by making use of Power BI to generate visualisations:\n",
    "* What Data Professions has the highest Salary?\n",
    "* Does level of education matter?\n",
    "* How difficult is it to break in to a Data Professions?\n",
    "* What is the most used Programming Langauge in Data Professions?\n",
    "* How happy are people in their Data Professions based on Their Position and Salary?\n",
    "* How happy are people in their Data Professions based on Their Work and Life Balance?"
   ]
  },
  {
   "attachments": {},
   "cell_type": "markdown",
   "metadata": {},
   "source": [
    "#### Prepare"
   ]
  },
  {
   "attachments": {},
   "cell_type": "markdown",
   "metadata": {},
   "source": [
    "The Data Professions Survey can be found here https://github.com/AlexTheAnalyst/Power-BI/blob/main/Power%20BI%20-%20Final%20Project.xlsx. The file was downloaded and store on my PC and renamed to fit the project titel."
   ]
  },
  {
   "attachments": {},
   "cell_type": "markdown",
   "metadata": {},
   "source": [
    "#### Process"
   ]
  },
  {
   "attachments": {},
   "cell_type": "markdown",
   "metadata": {},
   "source": [
    "I made use of the following tools to process this dataset:\n",
    "* **Excel**: I mainly used Excel just to scan through the data to check if its usable for the project.\n",
    "* **Power Query**: I used Power Query as my main tool to clean the data.\n",
    "\n",
    "In the Processing and cleaning phase I Dropped all unneccesary columns, cleaned the columns that contained the \"Other\" option to only state \"Other\" and nothing else in the columns in order to simplify the analysis process.\n",
    "\n",
    "I also cleaned the Yearly Salary column by creating a new column that calculates the average between the 2 values given in the original column to make it easier to visualise."
   ]
  },
  {
   "attachments": {},
   "cell_type": "markdown",
   "metadata": {},
   "source": [
    "#### Analyse"
   ]
  },
  {
   "attachments": {},
   "cell_type": "markdown",
   "metadata": {},
   "source": [
    "When Analysing the Dataset in Power BI I did the following:\n",
    "* I calculated the total amount of people who partook in the survey.\n",
    "* I calculated the average age of the people who partook in the survey.\n",
    "* I compared and caluclated the average salary by Data Professions.\n",
    "* I calculated the favourite programming langauge and broken it up by Data Professions.\n",
    "* I calculated the amount of survey takers in each country.\n",
    "* I calculated the overall happiness of survey takers according to Work/Life balance.\n",
    "* I calculated the overall happiness of survey takers according to Role/Salary.\n",
    "* I calculated the different difficulties of entering data Professions as a percentage of all the survey takers."
   ]
  },
  {
   "attachments": {},
   "cell_type": "markdown",
   "metadata": {},
   "source": [
    "#### Share"
   ]
  },
  {
   "attachments": {},
   "cell_type": "markdown",
   "metadata": {},
   "source": [
    "After analysing the data with Power Query and Power BI I generated the following DashBoard:"
   ]
  },
  {
   "attachments": {},
   "cell_type": "markdown",
   "metadata": {},
   "source": [
    "<img src=\"Survey_Breakdown.jpg\" alt=\"drawing\" width=\"800\"/>"
   ]
  },
  {
   "attachments": {},
   "cell_type": "markdown",
   "metadata": {},
   "source": [
    "After Analysing and visualising the dataset the following conclusions can be made:\n",
    "* **Data Scientists** Earn the highest yearly salary (**$94K**).\n",
    "* Most survey takers (**42.7%**) stated that it is not difficult nor easy to break in to Data Professions.\n",
    "* There is a staggering **155%** increase in salary going from a bachelors degree to a **PhD** meaning that education plays a massive role.\n",
    "* **Python** is by a significant margin the most popular programming language in Data Professions.\n",
    "* People in Data Professions are about **43%** happy with their role/salary.\n",
    "* People in Data Professions are about **57%** happy with their Work/Life Balance."
   ]
  }
 ],
 "metadata": {
  "language_info": {
   "name": "python"
  },
  "orig_nbformat": 4
 },
 "nbformat": 4,
 "nbformat_minor": 2
}
